{
 "cells": [
  {
   "cell_type": "markdown",
   "metadata": {
    "id": "-u30hbF85ZKo"
   },
   "source": [
    "# **TASK 4: EXPLORATORY DATA ANALYSIS - GLOBAL TERRORISM**"
   ]
  },
  {
   "cell_type": "markdown",
   "metadata": {
    "id": "58zHWrjF6BDk"
   },
   "source": [
    "# **The Sparks Foundation**"
   ]
  },
  {
   "cell_type": "markdown",
   "metadata": {
    "id": "dcqp9slp6JHD"
   },
   "source": [
    "# **Author: Harshavardhan Subramanian Madhavan**"
   ]
  },
  {
   "cell_type": "markdown",
   "metadata": {
    "id": "14KyDPVU6QJg"
   },
   "source": [
    "# **Data Science and Business Analytics Intern**"
   ]
  },
  {
   "cell_type": "markdown",
   "metadata": {
    "id": "t5Dpxs2y6Yrh"
   },
   "source": [
    "**Importing Libraries and Data Pre-processing**"
   ]
  },
  {
   "cell_type": "code",
   "execution_count": 2,
   "metadata": {
    "id": "VYNfnHmoiK_J"
   },
   "outputs": [
    {
     "ename": "ModuleNotFoundError",
     "evalue": "No module named 'plotly'",
     "output_type": "error",
     "traceback": [
      "\u001b[1;31m---------------------------------------------------------------------------\u001b[0m",
      "\u001b[1;31mModuleNotFoundError\u001b[0m                       Traceback (most recent call last)",
      "\u001b[1;32mC:\\Users\\HARSHA~1\\AppData\\Local\\Temp/ipykernel_4048/1479891188.py\u001b[0m in \u001b[0;36m<module>\u001b[1;34m\u001b[0m\n\u001b[0;32m      4\u001b[0m \u001b[1;32mimport\u001b[0m \u001b[0mseaborn\u001b[0m \u001b[1;32mas\u001b[0m \u001b[0msns\u001b[0m\u001b[1;33m\u001b[0m\u001b[1;33m\u001b[0m\u001b[0m\n\u001b[0;32m      5\u001b[0m \u001b[1;32mimport\u001b[0m \u001b[0mmath\u001b[0m\u001b[1;33m\u001b[0m\u001b[1;33m\u001b[0m\u001b[0m\n\u001b[1;32m----> 6\u001b[1;33m \u001b[1;32mimport\u001b[0m \u001b[0mplotly\u001b[0m\u001b[1;33m.\u001b[0m\u001b[0moffline\u001b[0m \u001b[1;32mas\u001b[0m \u001b[0mpy\u001b[0m\u001b[1;33m\u001b[0m\u001b[1;33m\u001b[0m\u001b[0m\n\u001b[0m\u001b[0;32m      7\u001b[0m \u001b[1;32mimport\u001b[0m \u001b[0mplotly\u001b[0m\u001b[1;33m.\u001b[0m\u001b[0mgraph_objs\u001b[0m \u001b[1;32mas\u001b[0m \u001b[0mgo\u001b[0m\u001b[1;33m\u001b[0m\u001b[1;33m\u001b[0m\u001b[0m\n",
      "\u001b[1;31mModuleNotFoundError\u001b[0m: No module named 'plotly'"
     ]
    }
   ],
   "source": [
    "import pandas as pd\n",
    "import numpy as np\n",
    "import matplotlib.pyplot as plt\n",
    "import seaborn as sns\n",
    "import math\n",
    "import plotly.offline as py\n",
    "import plotly.graph_objs as go"
   ]
  },
  {
   "cell_type": "code",
   "execution_count": null,
   "metadata": {
    "colab": {
     "base_uri": "https://localhost:8080/"
    },
    "id": "1PKJRx83jL1L",
    "outputId": "b1333082-9521-497a-9362-beda18a13d50"
   },
   "outputs": [],
   "source": [
    "from google.colab import drive\n",
    "drive.mount('/content/drive')"
   ]
  },
  {
   "cell_type": "code",
   "execution_count": null,
   "metadata": {
    "colab": {
     "base_uri": "https://localhost:8080/",
     "height": 925
    },
    "id": "yAu0_iwoo-Kk",
    "outputId": "0517ddf5-492a-4e81-993e-11e1f35cb6bf"
   },
   "outputs": [],
   "source": [
    "terrorism = pd.read_csv(\"/content/drive/MyDrive/globalterrorismdb_0718dist.csv\", encoding='ISO-8859-1')\n",
    "print(\"Dataset\")\n",
    "terrorism.head(10)"
   ]
  },
  {
   "cell_type": "code",
   "execution_count": null,
   "metadata": {
    "colab": {
     "base_uri": "https://localhost:8080/"
    },
    "id": "v-AW-sGYrQv_",
    "outputId": "c3c072c5-5ba5-4c16-907e-97ae859e0170"
   },
   "outputs": [],
   "source": [
    "terrorism.columns"
   ]
  },
  {
   "cell_type": "code",
   "execution_count": null,
   "metadata": {
    "colab": {
     "base_uri": "https://localhost:8080/"
    },
    "id": "Kd_sHkzJraT-",
    "outputId": "3bb5e149-8866-4551-d8ec-eead9e30a5b5"
   },
   "outputs": [],
   "source": [
    "terrorism.info()"
   ]
  },
  {
   "cell_type": "code",
   "execution_count": null,
   "metadata": {
    "colab": {
     "base_uri": "https://localhost:8080/",
     "height": 394
    },
    "id": "IkEehIXCrov-",
    "outputId": "9941a861-6448-460c-f284-77fac883ce03"
   },
   "outputs": [],
   "source": [
    "terrorism.describe()"
   ]
  },
  {
   "cell_type": "code",
   "execution_count": null,
   "metadata": {
    "colab": {
     "base_uri": "https://localhost:8080/",
     "height": 488
    },
    "id": "V2ZBNMfLruAm",
    "outputId": "141d621f-6e30-4f06-bc4e-29c1f2fa1b29"
   },
   "outputs": [],
   "source": [
    "terrorism.isnull()"
   ]
  },
  {
   "cell_type": "code",
   "execution_count": null,
   "metadata": {
    "colab": {
     "base_uri": "https://localhost:8080/"
    },
    "id": "ssZ-iIoIr2My",
    "outputId": "1c2f2e0c-51a3-44d3-8533-a036271e94d4"
   },
   "outputs": [],
   "source": [
    "terrorism.isnull().sum()"
   ]
  },
  {
   "cell_type": "code",
   "execution_count": null,
   "metadata": {
    "colab": {
     "base_uri": "https://localhost:8080/"
    },
    "id": "1PVbsncTr7Yw",
    "outputId": "0a56f4a2-bc3d-4b11-878d-4b0ab01180ba"
   },
   "outputs": [],
   "source": [
    "terrorism.duplicated()"
   ]
  },
  {
   "cell_type": "code",
   "execution_count": null,
   "metadata": {
    "id": "NpYeNAAqsFMk"
   },
   "outputs": [],
   "source": [
    "terrorism.rename(columns={'iyear':'Year','imonth':'Month','iday':'Day','country_txt':'Country','provstate':'state',\n",
    "                       'region_txt':'Region','attacktype1_txt':'AttackType','target1':'Target','nkill':'Killed',\n",
    "                       'nwound':'Wounded','summary':'Summary','gname':'Group','targtype1_txt':'Target_type',\n",
    "                       'weaptype1_txt':'Weapon_type','motive':'Motive'},inplace=True)"
   ]
  },
  {
   "cell_type": "code",
   "execution_count": null,
   "metadata": {
    "id": "GErgHxsLsdqT"
   },
   "outputs": [],
   "source": [
    "terrorism=terrorism[['Year','Month','Day','Country','state','Region','city','latitude','longitude','AttackType','Killed',\n",
    "               'Wounded','Target','Summary','Group','Target_type','Weapon_type','Motive']]"
   ]
  },
  {
   "cell_type": "code",
   "execution_count": null,
   "metadata": {
    "colab": {
     "base_uri": "https://localhost:8080/"
    },
    "id": "rNhtswQYsoHQ",
    "outputId": "864901be-309f-4a26-91fe-0e71125bba1f"
   },
   "outputs": [],
   "source": [
    "terrorism[\"Country\"].unique()"
   ]
  },
  {
   "cell_type": "code",
   "execution_count": null,
   "metadata": {
    "colab": {
     "base_uri": "https://localhost:8080/"
    },
    "id": "m8kL6DlBsx5B",
    "outputId": "f366094a-5803-4a27-d072-8754e43eac2a"
   },
   "outputs": [],
   "source": [
    "terrorism[\"AttackType\"].unique()"
   ]
  },
  {
   "cell_type": "code",
   "execution_count": null,
   "metadata": {
    "colab": {
     "base_uri": "https://localhost:8080/"
    },
    "id": "vYnsy_GvtKL9",
    "outputId": "a6270906-d77c-4c3c-871e-ce1e72237128"
   },
   "outputs": [],
   "source": [
    "terrorism[\"Motive\"].unique()"
   ]
  },
  {
   "cell_type": "code",
   "execution_count": null,
   "metadata": {
    "colab": {
     "base_uri": "https://localhost:8080/"
    },
    "id": "yVe46QArtmnJ",
    "outputId": "458138cc-5097-4b8b-b852-c96b82046164"
   },
   "outputs": [],
   "source": [
    "terrorism[\"Weapon_type\"].unique()"
   ]
  },
  {
   "cell_type": "markdown",
   "metadata": {
    "id": "RmPKXTic6ok3"
   },
   "source": [
    "**Destructive Features of Data**"
   ]
  },
  {
   "cell_type": "code",
   "execution_count": null,
   "metadata": {
    "colab": {
     "base_uri": "https://localhost:8080/"
    },
    "id": "u9kf7LrVt2uP",
    "outputId": "dbfd288c-1c45-4b41-ea2a-3f63a6a56977"
   },
   "outputs": [],
   "source": [
    "print(\"Country with the most attacks:\",terrorism['Country'].value_counts().idxmax())\n",
    "print(\"City with the most attacks:\",terrorism['city'].value_counts().index[1]) \n",
    "print(\"Region with the most attacks:\",terrorism['Region'].value_counts().idxmax())\n",
    "print(\"Year with the most attacks:\",terrorism['Year'].value_counts().idxmax())\n",
    "print(\"Month with the most attacks:\",terrorism['Month'].value_counts().idxmax())\n",
    "print(\"Group with the most attacks:\",terrorism['Group'].value_counts().index[1])\n",
    "print(\"Most Attack Types:\",terrorism['AttackType'].value_counts().idxmax())"
   ]
  },
  {
   "cell_type": "code",
   "execution_count": null,
   "metadata": {
    "colab": {
     "base_uri": "https://localhost:8080/",
     "height": 518
    },
    "id": "qbvLMmlTuGMc",
    "outputId": "bb3b05c7-d32f-4769-8979-e06fccfb13bb"
   },
   "outputs": [],
   "source": [
    "from wordcloud import WordCloud\n",
    "from scipy import signal\n",
    "cities = terrorism.state.dropna(False)\n",
    "plt.subplots(figsize=(10,8))\n",
    "wordcloud = WordCloud(background_color = 'white',\n",
    "                     width = 512,\n",
    "                     height = 384).generate(' '.join(cities))\n",
    "plt.axis('off')\n",
    "plt.imshow(wordcloud)\n",
    "plt.show()"
   ]
  },
  {
   "cell_type": "markdown",
   "metadata": {
    "id": "TCai_L5b6yqy"
   },
   "source": [
    "**Data Visualization**"
   ]
  },
  {
   "cell_type": "code",
   "execution_count": null,
   "metadata": {
    "colab": {
     "base_uri": "https://localhost:8080/",
     "height": 804
    },
    "id": "Zu4AUO3Jyv-g",
    "outputId": "a8ee1098-2af5-4529-fc56-1e16fce2789b"
   },
   "outputs": [],
   "source": [
    "plt.hist(terrorism['Country'],color=\"red\")\n",
    "plt.xlabel(\"Country\")\n",
    "plt.show()\n",
    "\n",
    "plt.hist(terrorism['AttackType'],color=\"blue\")\n",
    "plt.xlabel(\"AttackType\")\n",
    "plt.show()\n",
    "\n",
    "plt.hist(terrorism['Weapon_type'],color=\"orange\")\n",
    "plt.xlabel(\"Weapon_type\")\n",
    "plt.show()\n",
    "\n",
    "plt.show()"
   ]
  },
  {
   "cell_type": "code",
   "execution_count": null,
   "metadata": {
    "colab": {
     "base_uri": "https://localhost:8080/",
     "height": 483
    },
    "id": "NJ5vVwYbxfUt",
    "outputId": "76a31846-4cf9-4f6e-cfad-79421fc338de"
   },
   "outputs": [],
   "source": [
    "plt.figure(figsize=(10,8))\n",
    "plt.plot(terrorism['AttackType'])\n",
    "plt.show()"
   ]
  },
  {
   "cell_type": "code",
   "execution_count": null,
   "metadata": {
    "colab": {
     "base_uri": "https://localhost:8080/"
    },
    "id": "dslHdZpvz6OY",
    "outputId": "8820e879-b50e-41a5-fea1-a4b335fae1fb"
   },
   "outputs": [],
   "source": [
    "terrorism['Year'].value_counts(dropna = False).sort_index()"
   ]
  },
  {
   "cell_type": "markdown",
   "metadata": {
    "id": "REnX-1OT64He"
   },
   "source": [
    "**Number of Terrorist Attacks every year**"
   ]
  },
  {
   "cell_type": "code",
   "execution_count": null,
   "metadata": {
    "colab": {
     "base_uri": "https://localhost:8080/",
     "height": 745
    },
    "id": "1cgVy3BY0Bc3",
    "outputId": "98cb699e-96dc-4bf5-c34e-c5402e644f93"
   },
   "outputs": [],
   "source": [
    "x_year = terrorism['Year'].unique()\n",
    "y_count_years = terrorism['Year'].value_counts(dropna = False).sort_index()\n",
    "plt.figure(figsize = (14,12))\n",
    "sns.barplot(x = x_year,\n",
    "           y = y_count_years,\n",
    "           palette = 'rocket')\n",
    "plt.xticks(rotation = 45)\n",
    "plt.xlabel('Attack Year')\n",
    "plt.ylabel('Number of Attacks each year')\n",
    "plt.title('Attack_of_Years')\n",
    "plt.show()"
   ]
  },
  {
   "cell_type": "code",
   "execution_count": null,
   "metadata": {
    "colab": {
     "base_uri": "https://localhost:8080/",
     "height": 280
    },
    "id": "k2kiKxpG0Qs5",
    "outputId": "731d6503-75e5-4625-c6c0-58e7a4cdf690"
   },
   "outputs": [],
   "source": [
    "terrorism.plot(kind =\"scatter\", \n",
    "          x ='Weapon_type', \n",
    "          y ='AttackType') \n",
    "plt.grid()"
   ]
  },
  {
   "cell_type": "code",
   "execution_count": 3,
   "metadata": {
    "colab": {
     "base_uri": "https://localhost:8080/",
     "height": 726
    },
    "id": "OHBDuSoB0tKk",
    "outputId": "6fe52410-47f8-42c9-a7a3-f6c24c5a28d8"
   },
   "outputs": [
    {
     "ename": "NameError",
     "evalue": "name 'terrorism' is not defined",
     "output_type": "error",
     "traceback": [
      "\u001b[1;31m---------------------------------------------------------------------------\u001b[0m",
      "\u001b[1;31mNameError\u001b[0m                                 Traceback (most recent call last)",
      "\u001b[1;32mC:\\Users\\HARSHA~1\\AppData\\Local\\Temp/ipykernel_4048/2009807030.py\u001b[0m in \u001b[0;36m<module>\u001b[1;34m\u001b[0m\n\u001b[0;32m      1\u001b[0m \u001b[0mplt\u001b[0m\u001b[1;33m.\u001b[0m\u001b[0msubplots\u001b[0m\u001b[1;33m(\u001b[0m\u001b[0mfigsize\u001b[0m\u001b[1;33m=\u001b[0m\u001b[1;33m(\u001b[0m\u001b[1;36m14\u001b[0m\u001b[1;33m,\u001b[0m\u001b[1;36m10\u001b[0m\u001b[1;33m)\u001b[0m\u001b[1;33m)\u001b[0m\u001b[1;33m\u001b[0m\u001b[1;33m\u001b[0m\u001b[0m\n\u001b[1;32m----> 2\u001b[1;33m \u001b[0msns\u001b[0m\u001b[1;33m.\u001b[0m\u001b[0mcountplot\u001b[0m\u001b[1;33m(\u001b[0m\u001b[1;34m'Year'\u001b[0m\u001b[1;33m,\u001b[0m\u001b[0mdata\u001b[0m\u001b[1;33m=\u001b[0m\u001b[0mterrorism\u001b[0m\u001b[1;33m,\u001b[0m\u001b[0mpalette\u001b[0m\u001b[1;33m=\u001b[0m\u001b[1;34m'RdYlGn_r'\u001b[0m\u001b[1;33m,\u001b[0m\u001b[0medgecolor\u001b[0m\u001b[1;33m=\u001b[0m\u001b[0msns\u001b[0m\u001b[1;33m.\u001b[0m\u001b[0mcolor_palette\u001b[0m\u001b[1;33m(\u001b[0m\u001b[1;34m\"YlOrBr\"\u001b[0m\u001b[1;33m,\u001b[0m \u001b[1;36m10\u001b[0m\u001b[1;33m)\u001b[0m\u001b[1;33m)\u001b[0m\u001b[1;33m\u001b[0m\u001b[1;33m\u001b[0m\u001b[0m\n\u001b[0m\u001b[0;32m      3\u001b[0m \u001b[0mplt\u001b[0m\u001b[1;33m.\u001b[0m\u001b[0mxticks\u001b[0m\u001b[1;33m(\u001b[0m\u001b[0mrotation\u001b[0m\u001b[1;33m=\u001b[0m\u001b[1;36m45\u001b[0m\u001b[1;33m)\u001b[0m\u001b[1;33m\u001b[0m\u001b[1;33m\u001b[0m\u001b[0m\n\u001b[0;32m      4\u001b[0m \u001b[0mplt\u001b[0m\u001b[1;33m.\u001b[0m\u001b[0mtitle\u001b[0m\u001b[1;33m(\u001b[0m\u001b[1;34m'Number Of Terrorist Activities Each Year'\u001b[0m\u001b[1;33m)\u001b[0m\u001b[1;33m\u001b[0m\u001b[1;33m\u001b[0m\u001b[0m\n\u001b[0;32m      5\u001b[0m \u001b[0mplt\u001b[0m\u001b[1;33m.\u001b[0m\u001b[0mshow\u001b[0m\u001b[1;33m(\u001b[0m\u001b[1;33m)\u001b[0m\u001b[1;33m\u001b[0m\u001b[1;33m\u001b[0m\u001b[0m\n",
      "\u001b[1;31mNameError\u001b[0m: name 'terrorism' is not defined"
     ]
    },
    {
     "data": {
      "image/png": "[encoded data removed]",
      "text/plain": [
       "<Figure size 1008x720 with 1 Axes>"
      ]
     },
     "metadata": {
      "needs_background": "light"
     },
     "output_type": "display_data"
    }
   ],
   "source": [
    "plt.subplots(figsize=(14,10))\n",
    "sns.countplot('Year',data=terrorism,palette='RdYlGn_r',edgecolor=sns.color_palette(\"YlOrBr\", 10))\n",
    "plt.xticks(rotation=45)\n",
    "plt.title('Number Of Terrorist Activities Each Year')\n",
    "plt.show()"
   ]
  },
  {
   "cell_type": "code",
   "execution_count": null,
   "metadata": {
    "colab": {
     "base_uri": "https://localhost:8080/",
     "height": 513
    },
    "id": "CwxL1PGo05s7",
    "outputId": "8e0f29f1-5c08-4ef6-bca4-b10ac3b96643"
   },
   "outputs": [],
   "source": [
    "pd.crosstab(terrorism.Year, terrorism.Region).plot(kind='area',figsize=(12,8))\n",
    "plt.title('Terrorist Activities by Region in each Year')\n",
    "plt.ylabel('Number of Attacks')\n",
    "plt.show()"
   ]
  },
  {
   "cell_type": "code",
   "execution_count": null,
   "metadata": {
    "id": "hVAr10061KgS"
   },
   "outputs": [],
   "source": [
    "terrorism['Wounded'] = terrorism['Wounded'].fillna(0).astype(int)\n",
    "terrorism['Killed'] = terrorism['Killed'].fillna(0).astype(int)\n",
    "terrorism['casualities'] = terrorism['Killed'] + terrorism['Wounded']"
   ]
  },
  {
   "cell_type": "code",
   "execution_count": null,
   "metadata": {
    "id": "kOsRAIG414dK"
   },
   "outputs": [],
   "source": [
    "terror = terrorism.sort_values(by='casualities',ascending=False)[:40]"
   ]
  },
  {
   "cell_type": "code",
   "execution_count": null,
   "metadata": {
    "id": "nWQiGXSm17qi"
   },
   "outputs": [],
   "source": [
    "heat=terror.pivot_table(index='Country',columns='Year',values='casualities')\n",
    "heat.fillna(0,inplace=True)\n"
   ]
  },
  {
   "cell_type": "code",
   "execution_count": null,
   "metadata": {
    "colab": {
     "base_uri": "https://localhost:8080/",
     "height": 542
    },
    "id": "5N6X5OsV2Alk",
    "outputId": "8139c439-d02c-4a0e-aabb-5d4901faf0e1"
   },
   "outputs": [],
   "source": [
    "import plotly.offline as py\n",
    "py.init_notebook_mode(connected=True)\n",
    "import plotly.graph_objs as go\n",
    "colorscale = [[0, '#edf8fb'], [.3, '#00BFFF'],  [.6, '#8856a7'],  [1, '#810f7c']]\n",
    "heatmap = go.Heatmap(z=heat.values, x=heat.columns, y=heat.index, colorscale=colorscale)\n",
    "data = [heatmap]\n",
    "layout = go.Layout(\n",
    "    title='Top 40 Worst Terror Attacks in History from 1982 to 2016',\n",
    "    xaxis = dict(ticks='', nticks=20),\n",
    "    yaxis = dict(ticks='')\n",
    ")\n",
    "fig = go.Figure(data=data, layout=layout)\n",
    "py.iplot(fig, filename='heatmap',show_link=False)"
   ]
  },
  {
   "cell_type": "code",
   "execution_count": null,
   "metadata": {
    "colab": {
     "base_uri": "https://localhost:8080/"
    },
    "id": "C6vbytk72IQ9",
    "outputId": "9398dde3-70ce-4628-85c6-eb3489e9e0d5"
   },
   "outputs": [],
   "source": [
    "terrorism.Country.value_counts()[:15]"
   ]
  },
  {
   "cell_type": "markdown",
   "metadata": {
    "id": "ofhlmFcc7Hs0"
   },
   "source": [
    "**Top Afffected Countries in the World**"
   ]
  },
  {
   "cell_type": "code",
   "execution_count": null,
   "metadata": {
    "colab": {
     "base_uri": "https://localhost:8080/",
     "height": 659
    },
    "id": "LjxPQkx_2N14",
    "outputId": "771fe3d8-612d-4ee2-fc8d-1bc9bea0652a"
   },
   "outputs": [],
   "source": [
    "plt.subplots(figsize=(12,8))\n",
    "sns.barplot(terror['Country'].value_counts()[:15].index,terror['Country'].value_counts()[:15].values,palette='Blues_d')\n",
    "plt.title('Top Countries Affected')\n",
    "plt.xlabel('Countries')\n",
    "plt.ylabel('Count')\n",
    "plt.xticks(rotation= 90)\n",
    "plt.show()"
   ]
  },
  {
   "cell_type": "markdown",
   "metadata": {
    "id": "JIkoCfEm7RVR"
   },
   "source": [
    "**Terrorist Attacks on a particular year and their Locations**"
   ]
  },
  {
   "cell_type": "code",
   "execution_count": null,
   "metadata": {
    "id": "HV05d7kj2SUH"
   },
   "outputs": [],
   "source": [
    "import folium\n",
    "from folium.plugins import MarkerCluster \n",
    "filterYear = terror['Year'] == 2008"
   ]
  },
  {
   "cell_type": "code",
   "execution_count": null,
   "metadata": {
    "id": "9LTn-HUd2YzM"
   },
   "outputs": [],
   "source": [
    "filterData = terror[filterYear] \n",
    "reqFilterData = filterData.loc[:,'city':'longitude'] \n",
    "reqFilterData = reqFilterData.dropna() \n",
    "reqFilterDataList = reqFilterData.values.tolist()"
   ]
  },
  {
   "cell_type": "code",
   "execution_count": null,
   "metadata": {
    "colab": {
     "base_uri": "https://localhost:8080/",
     "height": 866
    },
    "id": "xnnjvrpJ2kxA",
    "outputId": "57f73a44-a8e4-4b79-f184-68c32fefbd68"
   },
   "outputs": [],
   "source": [
    "map = folium.Map(location = [0, 30], tiles='CartoDB positron', zoom_start=2)\n",
    "markerCluster = folium.plugins.MarkerCluster().add_to(map)\n",
    "for point in range(0, len(reqFilterDataList)):\n",
    "    folium.Marker(location=[reqFilterDataList[point][1],reqFilterDataList[point][2]],\n",
    "                  popup = reqFilterDataList[point][0]).add_to(markerCluster)\n",
    "map"
   ]
  },
  {
   "cell_type": "code",
   "execution_count": null,
   "metadata": {
    "colab": {
     "base_uri": "https://localhost:8080/"
    },
    "id": "qTXkdPFj2rHo",
    "outputId": "3a79f9d2-d239-4852-b3aa-dabebb869736"
   },
   "outputs": [],
   "source": [
    "\n",
    "terror.Group.value_counts()[1:15]"
   ]
  },
  {
   "cell_type": "code",
   "execution_count": null,
   "metadata": {
    "id": "vT56Rf5b24-J"
   },
   "outputs": [],
   "source": [
    "terrorist = terror[terror.Group.isin(['Shining Path (SL)','Taliban','Islamic State of Iraq and the Levant (ISIL)'])]"
   ]
  },
  {
   "cell_type": "code",
   "execution_count": null,
   "metadata": {
    "colab": {
     "base_uri": "https://localhost:8080/"
    },
    "id": "Ad_SYY4n2ynA",
    "outputId": "e0377137-2c6f-4d40-ee42-daa0cd6677c8"
   },
   "outputs": [],
   "source": [
    "terrorist.Country.unique()"
   ]
  },
  {
   "cell_type": "code",
   "execution_count": null,
   "metadata": {
    "colab": {
     "base_uri": "https://localhost:8080/"
    },
    "id": "jadXTWFw3Hmz",
    "outputId": "c010f66b-a388-472f-c517-4287eb2225df"
   },
   "outputs": [],
   "source": [
    "terror_df_group = terror.dropna(subset=['latitude','longitude'])\n",
    "terror_df_group = terror_df_group.drop_duplicates(subset=['Country','Group'])\n",
    "terrorist_groups = terror.Group.value_counts()[1:8].index.tolist()\n",
    "terror_df_group = terror_df_group.loc[terror_df_group.Group.isin(terrorist_groups)]\n",
    "print(terror_df_group.Group.unique())"
   ]
  },
  {
   "cell_type": "code",
   "execution_count": null,
   "metadata": {
    "id": "q2TDh2_h29RS"
   },
   "outputs": [],
   "source": [
    "map = folium.Map(location=[20, 0], tiles=\"CartoDB positron\", zoom_start=2)\n",
    "markerCluster = folium.plugins.MarkerCluster().add_to(map)\n",
    "for i in range(0,len(terror_df_group)):\n",
    "    folium.Marker([terror_df_group.iloc[i]['latitude'],terror_df_group.iloc[i]['longitude']], \n",
    "                  popup='Group:{}<br>Country:{}'.format(terror_df_group.iloc[i]['Group'], \n",
    "                  terror_df_group.iloc[i]['Country'])).add_to(map)"
   ]
  },
  {
   "cell_type": "code",
   "execution_count": null,
   "metadata": {
    "colab": {
     "base_uri": "https://localhost:8080/",
     "height": 866
    },
    "id": "kvc9-D-z3MEy",
    "outputId": "319fbfb1-8c96-4959-fed0-f56541041d52"
   },
   "outputs": [],
   "source": [
    "m1 = folium.Map(location=[20, 0], tiles=\"CartoDB positron\", zoom_start=2)\n",
    "marker_cluster = MarkerCluster(\n",
    "    name='clustered icons',\n",
    "    overlay=True,\n",
    "    control=False,\n",
    "    icon_create_function=None\n",
    ")\n",
    "for i in range(0,len(terror_df_group)):\n",
    "    marker=folium.Marker([terror_df_group.iloc[i]['latitude'],terror_df_group.iloc[i]['longitude']]) \n",
    "    popup='Group:{}<br>Country:{}'.format(terror_df_group.iloc[i]['Group'],\n",
    "                                          terror_df_group.iloc[i]['Country'])\n",
    "    folium.Popup(popup).add_to(marker)\n",
    "    marker_cluster.add_child(marker)\n",
    "marker_cluster.add_to(m1)\n",
    "folium.TileLayer('openstreetmap').add_to(m1)\n",
    "folium.TileLayer('Mapbox Bright').add_to(m1)\n",
    "folium.TileLayer('cartodbdark_matter').add_to(m1)\n",
    "folium.TileLayer('stamentoner').add_to(m1)\n",
    "folium.LayerControl().add_to(m1)\n",
    "\n",
    "m1"
   ]
  },
  {
   "cell_type": "code",
   "execution_count": null,
   "metadata": {
    "colab": {
     "base_uri": "https://localhost:8080/"
    },
    "id": "hc167_Zv3dFn",
    "outputId": "20eaddfb-e4a2-4f62-8d14-68014cd7c4b8"
   },
   "outputs": [],
   "source": [
    "killData = terror.loc[:,'Killed']\n",
    "print('Number of people killed by terror attack:', int(sum(killData.dropna())))"
   ]
  },
  {
   "cell_type": "code",
   "execution_count": null,
   "metadata": {
    "id": "Dh0e5rUy3kUf"
   },
   "outputs": [],
   "source": [
    "attackData = terror.loc[:,'AttackType']\n",
    "typeKillData = pd.concat([attackData, killData], axis=1)"
   ]
  },
  {
   "cell_type": "code",
   "execution_count": null,
   "metadata": {
    "colab": {
     "base_uri": "https://localhost:8080/",
     "height": 81
    },
    "id": "ryxQePQP3okD",
    "outputId": "b9ea84a1-95f7-4724-db8a-2e808cd422a5"
   },
   "outputs": [],
   "source": [
    "typeKillFormatData = typeKillData.pivot_table(columns='AttackType', values='Killed', aggfunc='sum')\n",
    "typeKillFormatData"
   ]
  },
  {
   "cell_type": "code",
   "execution_count": null,
   "metadata": {
    "colab": {
     "base_uri": "https://localhost:8080/",
     "height": 931
    },
    "id": "YonoWR-W3r6S",
    "outputId": "bd6a11e9-a52b-4e78-d228-4ea4b268795f"
   },
   "outputs": [],
   "source": [
    "labels = typeKillFormatData.columns.tolist() \n",
    "transpoze = typeKillFormatData.T \n",
    "values = transpoze.values.tolist()\n",
    "fig, ax = plt.subplots(figsize=(20, 15), subplot_kw=dict(aspect=\"equal\"))\n",
    "plt.pie(values, startangle=90, autopct='%.2f%%')\n",
    "plt.title('Types of terrorist attacks that cause deaths')\n",
    "plt.legend(labels, loc='upper right', bbox_to_anchor = (1.3, 0.9), fontsize=15)\n",
    "plt.show()"
   ]
  },
  {
   "cell_type": "code",
   "execution_count": null,
   "metadata": {
    "id": "bPgreZtz4BlX"
   },
   "outputs": [],
   "source": [
    "countryData = terror.loc[:,'Country']\n",
    "countryKillData = pd.concat([countryData, killData], axis=1)"
   ]
  },
  {
   "cell_type": "code",
   "execution_count": null,
   "metadata": {
    "colab": {
     "base_uri": "https://localhost:8080/",
     "height": 81
    },
    "id": "4tjHlk904Hmn",
    "outputId": "5fd3af54-b757-4192-f57a-c4564cfdf07b"
   },
   "outputs": [],
   "source": [
    "countryKillFormatData = countryKillData.pivot_table(columns='Country', values='Killed', aggfunc='sum')\n",
    "countryKillFormatData"
   ]
  },
  {
   "cell_type": "code",
   "execution_count": null,
   "metadata": {
    "colab": {
     "base_uri": "https://localhost:8080/",
     "height": 421
    },
    "id": "grMNz7kF4OPw",
    "outputId": "aabfc920-b355-41fb-b771-678ba6e614e1"
   },
   "outputs": [],
   "source": [
    "labels = countryKillFormatData.columns.tolist()\n",
    "labels = labels[:50] \n",
    "index = np.arange(len(labels))\n",
    "transpoze = countryKillFormatData.T\n",
    "values = transpoze.values.tolist()\n",
    "values = values[:50]\n",
    "values = [int(i[0]) for i in values] \n",
    "colors = ['red', 'green', 'blue', 'purple', 'yellow', 'brown', 'black', 'gray', 'magenta', 'orange']  \n",
    "fig, ax = plt.subplots(1, 1)\n",
    "ax.yaxis.grid(True)\n",
    "fig_size = plt.rcParams[\"figure.figsize\"]\n",
    "fig_size[0]=25\n",
    "fig_size[1]=25\n",
    "plt.rcParams[\"figure.figsize\"] = fig_size\n",
    "plt.bar(index, values, color = colors, width = 0.9)\n",
    "plt.ylabel('Killed People', fontsize=20)\n",
    "plt.xlabel('Countries', fontsize = 20)\n",
    "plt.xticks(index, labels, fontsize=18, rotation=90)\n",
    "plt.title('Number of people killed by countries', fontsize = 20)\n",
    "\n",
    "plt.show()"
   ]
  },
  {
   "cell_type": "markdown",
   "metadata": {
    "id": "f3NDCJRX7jZ4"
   },
   "source": [
    "Conclusion: From the above graphs we can understand the number of terrorist attacks that happened all over the world and number of people killed in each terrorist attacks.The Middle East and North Africa are seen to be the places of serious terrorist attacks. In addition, even though there is a perception that Muslims are supporters of terrorism, Muslims are the people who are most damaged by terrorist attacks. If you look at the graphics, it appears that Iraq, Afghanistan and Pakistan are the most damaged countries. All of these countries are Muslim countries. "
   ]
  }
 ],
 "metadata": {
  "colab": {
   "name": "Task4.ipynb",
   "provenance": []
  },
  "kernelspec": {
   "display_name": "Python 3 (ipykernel)",
   "language": "python",
   "name": "python3"
  },
  "language_info": {
   "codemirror_mode": {
    "name": "ipython",
    "version": 3
   },
   "file_extension": ".py",
   "mimetype": "text/x-python",
   "name": "python",
   "nbconvert_exporter": "python",
   "pygments_lexer": "ipython3",
   "version": "3.9.7"
  }
 },
 "nbformat": 4,
 "nbformat_minor": 1
}
